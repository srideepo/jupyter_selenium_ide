{
 "cells": [
  {
   "cell_type": "code",
   "execution_count": null,
   "metadata": {},
   "outputs": [],
   "source": [
    "import socket\n",
    "dockerhostip=socket.gethostbyname('host.docker.internal')\n",
    "browserdebugport=9222\n",
    "print(f\"hostip:{dockerhostip}, debugport:{browserdebugport}\")"
   ]
  },
  {
   "cell_type": "code",
   "execution_count": null,
   "metadata": {},
   "outputs": [],
   "source": [
    "from selenium import webdriver\n",
    "from selenium.webdriver.chrome.service import Service\n",
    "from selenium.webdriver.chrome.options import Options\n",
    "\n",
    "service = Service(executable_path='/usr/bin/chromedriver')\n",
    "opt=Options()\n",
    "opt.add_experimental_option(\"debuggerAddress\", f\"{dockerhostip}:{browserdebugport}\")\n",
    "driver=webdriver.Chrome(service=service, options=opt)\n",
    "\n",
    "driver.get(\"http://linkedin.com\")\n",
    "\n",
    "js = \"\"\"alert('Connected! This browser is running in debug mode via automation framework.')\"\"\"\n",
    "driver.execute_script(js)"
   ]
  }
 ],
 "metadata": {
  "kernelspec": {
   "display_name": "Python 3.11.4 64-bit",
   "language": "python",
   "name": "python3"
  },
  "language_info": {
   "name": "python",
   "version": "3.11.4"
  },
  "orig_nbformat": 4,
  "vscode": {
   "interpreter": {
    "hash": "8ae215ca5e5ac4d9698dc28fe2d60bcffda1afb38b60a162e1c0ef69721b8b86"
   }
  }
 },
 "nbformat": 4,
 "nbformat_minor": 2
}
